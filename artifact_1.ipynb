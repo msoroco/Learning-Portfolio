{
 "cells": [
  {
   "cell_type": "markdown",
   "metadata": {},
   "source": [
    "## Simplex Method.\n",
    "# By Mauricio Soroco\n",
    "\n",
    "2022-09-16"
   ]
  },
  {
   "cell_type": "markdown",
   "metadata": {},
   "source": [
    "In this portfolio object, we will be using the pivot function (taken from Patrick's notes below) to implement the two phase simplex method. I've included Patrick's pivot operation before my work below."
   ]
  },
  {
   "cell_type": "code",
   "execution_count": 2,
   "metadata": {},
   "outputs": [],
   "source": [
    "import numpy as np"
   ]
  },
  {
   "cell_type": "markdown",
   "metadata": {},
   "source": [
    "## Pivot Operation (taken from Patrick's notes)\n",
    "\n",
    "Assume for now that $\\mathbf{b} \\geq 0$. Construct the initial **tableau** matrix:\n",
    "\n",
    "$$\n",
    "T = \n",
    "\\begin{bmatrix}\n",
    "A & I & \\mathbf{b} \\\\\n",
    "\\mathbf{c}^T & 0 & 0\n",
    "\\end{bmatrix}\n",
    "$$\n",
    "\n",
    "My definition is different from other sources. I put $\\mathbf{c}^T$ in the bottom row because I want the row indices of $T$ to match the indices of the slack variables. Like row 0 of $T$ corresponds to $w_0$, row 1 corresponds to $w_1$, etc.\n",
    "\n",
    "The **basic variables** correspond to the columns of $T$ which are columns of the identity matrix (in the first $m$ rows). In the initial tableau, the slack variables $w_0,\\dots,w_{m-1}$ are the basic variables and the decision variables $x_0,\\dots,x_{n-1}$ are the nonbasic variables. The corresponding vertex is $\\mathbf{x}=0$.\n",
    "\n",
    "We want to move to an adjacent vertex by selecting a new basic variable (the **entering variable**) and removing an existing basic variable (the **leaving variable**).\n",
    "\n",
    "We choose the entering and leaving variables such that:\n",
    "\n",
    "* The value of the objective function increases.\n",
    "* The new list of basic variables defines a vertex. In other words, the values of the basic variables (with nonbasic variables set to 0) are all positive.\n",
    "\n",
    "How do we do this? Choose the entering variable such that it has a positive coefficient in the objective function. Increasing the value of this variable will increase the value of the objective function.\n",
    "\n",
    "Choose the leaving variable such that the values of the basic variables (with nonbasic variables set to 0) are all positive. To do this, let $k$ be the column index of the entering variable. Look at the ratios\n",
    "\n",
    "$$\n",
    "\\frac{t_{i,n+m}}{t_{i,k}} \\ , \\ i = 0,\\dots,m-1\n",
    "$$\n",
    "\n",
    "where $t_{i,n+m}$ are the entries in the last column of $T$, and $t_{i,k}$ are the entries in the $k$th column of $T$. Select row $i$ such that this ratio is postive and minimal.\n",
    "\n",
    "Let $k$ be the column index of the entering variable. Let $\\ell$ be the row index of the leaving variable. The pivot operation applies row operations to the tableau $T$ such that column $k$ has 1 in row $\\ell$ and all other entries 0. The last column of the tableau should always have positive entries in rows $0,\\dots,m-1$.\n",
    "\n",
    "Below is a function called `pivot` which takes a tableau matrix $T$ and indices `k` and `l`. The function performs the pivot operation on $T$ and returns the new tableau matrix."
   ]
  },
  {
   "cell_type": "code",
   "execution_count": 3,
   "metadata": {},
   "outputs": [],
   "source": [
    "def pivot(T,k,l):\n",
    "    E = np.eye(T.shape[0])\n",
    "    E[:,l] = -T[:,k]/T[l,k]\n",
    "    E[l,l] = 1/T[l,k]\n",
    "    return E@T"
   ]
  },
  {
   "cell_type": "markdown",
   "metadata": {},
   "source": [
    "## Simplex Method.\n",
    "### By Mauricio Soroco 60785250\n",
    "\n",
    "In the code below, we make use of the pivot operation above to implement the two phase simplex method. The Simplex Method below is implemented with Anstees Rule:\n",
    "- Choose the entering variable with the largest positive coefficient.\n",
    "- If there is a tie, then choose the one with the smaller subscript.\n",
    "- If there is a choice of leaving variable, then choose the one with the smallest subscript.\n",
    "\n",
    "We apply these to three examples:\n",
    "- Problem with an optimal solution needing only Phase II of the simplex method\n",
    "- Problem with an optimal solution needing the two phase simplex method\n",
    "- Problem with an optimal solution needing the two phase simplex method\n",
    "- Problem with no feasible solution needing the two phase simplex method (particularly the first phase to show the problem is infeasible)."
   ]
  },
  {
   "cell_type": "markdown",
   "metadata": {},
   "source": [
    "## Code\n",
    "We first define some helpful helper methods for our implementation"
   ]
  },
  {
   "cell_type": "code",
   "execution_count": 4,
   "metadata": {},
   "outputs": [],
   "source": [
    "\"\"\" Prints the solution found by the simplex method. Includes the final tableau,\n",
    "    the value of the objective function, and the values for the original decision variables.\n",
    "    Params: Tableau T\n",
    "\"\"\"\n",
    "def report_solution(T):\n",
    "    T = T.round(2)\n",
    "    print(\"Final tableau:\")\n",
    "    print(T)\n",
    "    (r, c) = T.shape\n",
    "    z = T[r-1,:]\n",
    "    print(\"\\nThe optimal objective value is: \" + str(0-z[c-1]) + \"\\n\")\n",
    "    num_nonbasic = c - (r - 1) - 1\n",
    "    for j in range(num_nonbasic):\n",
    "        indices = np.nonzero(T[:, j])\n",
    "        nonzeros = T[:, j][indices]\n",
    "        if (nonzeros.size == 1 and nonzeros[0] == 1):\n",
    "            print(\"x_\" + str(j) +\" = \" + str(T[indices[0][0], c-1]))\n",
    "        else:\n",
    "            print(\"x_\" + str(j) +\" = 0\")"
   ]
  },
  {
   "cell_type": "code",
   "execution_count": 5,
   "metadata": {},
   "outputs": [],
   "source": [
    "\"\"\" Computes the new objective function, given the current set of\n",
    "    basic and non-basic variables (encoded in the matrix A).\n",
    "    \n",
    "    This method gets called after Phase I of the simplex method\n",
    "    ends and we need to resubstitute original objective function\n",
    "    into the tableau, but in terms of the current set of basic\n",
    "    and non-basic variables.\n",
    "\n",
    "    Params: A           The matrix A from the tableau\n",
    "            original_c  The original coefficients of the objective function\n",
    "                        to rearrange.\n",
    "\"\"\"\n",
    "def compute_new_c(A, original_c):\n",
    "    (r, c) = A.shape\n",
    "    new_c = original_c.copy()\n",
    "    for j in range(c):\n",
    "        indices = np.nonzero(A[:, j])\n",
    "        nonzeros = A[:, j][indices]\n",
    "        if (nonzeros.size == 1 and nonzeros[0] == 1):\n",
    "            basic_var = j\n",
    "            row_of_basic_var = indices[0][0]\n",
    "            for k in range(c-1):\n",
    "                new_c[k] = new_c[k] - original_c[j] * A[row_of_basic_var, k]\n",
    "            new_c[c-1] = new_c[c-1] + original_c[j] * A[row_of_basic_var, c-1] # the last column of c\n",
    "    new_c[c-1] = 0-new_c[c-1]\n",
    "    return new_c"
   ]
  },
  {
   "cell_type": "code",
   "execution_count": 6,
   "metadata": {},
   "outputs": [],
   "source": [
    "\"\"\" Finds the smallest basic variable index out of two basic variables.\n",
    "    Params: Tableau T\n",
    "            Basic Variable candidates a & b \"\"\"\n",
    "def smallest_basic(T, a, b):\n",
    "    (r, c) = T.shape\n",
    "    for j in range(c):\n",
    "        indices = np.nonzero(T[:, j])\n",
    "        nonzeros = T[:, j][indices]\n",
    "        if (nonzeros.size == 1 and nonzeros[0] == 1):\n",
    "            if ((indices[0] == a) or (indices[0] == b)):\n",
    "                return indices[0][0]\n",
    "    raise Exception(\"Something went wrong\")\n"
   ]
  },
  {
   "cell_type": "markdown",
   "metadata": {},
   "source": [
    "## Phase II\n",
    "The code below performs phase II of the simplex method on the given tableau. It is assumed that Phase I was already performed if necessary."
   ]
  },
  {
   "cell_type": "code",
   "execution_count": 7,
   "metadata": {},
   "outputs": [],
   "source": [
    "# Anstees Rule\n",
    "def PhaseII(T):\n",
    "    (m, k) = T.shape\n",
    "    c = T[m-1,:]\n",
    "\n",
    "    while(any((c[0:k-1] > 0))):\n",
    "        # choose entering variable with largest positive coefficient (if tie, pick smallest subscript)\n",
    "        entering_col = -1\n",
    "        largest = 0\n",
    "        for i in range(k - 1):\n",
    "            if c[i] > largest:\n",
    "                entering_col = i\n",
    "                largest = c[i]\n",
    "        if entering_col == -1:\n",
    "            print(\"All coefficients are negative.\")\n",
    "            raise Exception(\"Entering column invalid\")\n",
    "        # choose leaving variable with smallest ratio\n",
    "        leaving_row = -1\n",
    "        min_ratio = np.Infinity\n",
    "        for i in range(m - 1):\n",
    "            ratio = T[i, k-1] / T[i, entering_col]\n",
    "            if((ratio == min_ratio) and (ratio >= 0)):\n",
    "                #tie(leaving_row, i), find the column with the smallest subscript.\n",
    "                leaving_row = smallest_basic(T, leaving_row, i)\n",
    "            if((ratio < min_ratio) and (ratio >= 0)): \n",
    "                # in accordance with anstees rule we use smallest subscript for ratio ties\n",
    "                min_ratio = ratio\n",
    "                leaving_row = i\n",
    "        if leaving_row == -1:\n",
    "            raise Exception(\"Leaving row invalid\")\n",
    "        # now that we have entering and leaving variables we can pivot\n",
    "        print(\"\\nentering: col \" + str(entering_col) + \"     Leaving: row \"+ str(leaving_row) + \"\\n\")\n",
    "        T = pivot(T, entering_col, leaving_row)\n",
    "        print(T)\n",
    "        # update c:\n",
    "        c = T[m-1,:]\n",
    "        # when phaseII is finished:\n",
    "    print(\"\\nSince all the coefficients of the objective function are negative we reached the optimal solution.\\n\")\n",
    "    # print(T)\n",
    "    return T\n",
    "\n"
   ]
  },
  {
   "cell_type": "markdown",
   "metadata": {},
   "source": [
    "## Phase I\n",
    "The code below performs phase I of the simplex method on the given tableau"
   ]
  },
  {
   "cell_type": "code",
   "execution_count": 8,
   "metadata": {},
   "outputs": [],
   "source": [
    "def PhaseI(T):\n",
    "    (m, k) = T.shape\n",
    "    b = T[:,k-1]\n",
    "    original_c = T[m-1,:]\n",
    "    ideal_c = []\n",
    "    if (any(b < 0)):\n",
    "        print(\"\\nAuxiliary Problem\\n\") # Auxiliary problem required\n",
    "        A = T[0:m-1 ,0:k - (m -1)-1]\n",
    "        N = T[:, k - (m -1)-1:k]\n",
    "        T = np.hstack([np.repeat(-1, m).reshape(m,1), np.vstack([A, np.zeros(k - (m -1)-1)]), N])\n",
    "        ideal_c = T[m-1,:]\n",
    "        print(T)\n",
    "        # now we do initial pivot:\n",
    "        entering_col = 0\n",
    "        # choose leaving variable with most negative b\n",
    "        leaving_row = -1\n",
    "        min_value = 0\n",
    "        for i in range(m - 1):\n",
    "            if(b[i] < min_value):\n",
    "                min_value = b[i]\n",
    "                leaving_row = i\n",
    "        if leaving_row == -1:\n",
    "            raise Exception(\"Leaving row invalid\")\n",
    "        print(\"\\nentering: col \" + str(entering_col) + \"     Leaving: row \"+ str(leaving_row) + \"\\n\")\n",
    "        T = pivot(T, entering_col, leaving_row)\n",
    "        print(T)\n",
    "        try:\n",
    "            T = PhaseII(T)\n",
    "            T = T.round(8)\n",
    "            # check for feasibility and resubstitute c\n",
    "            if all(ideal_c == T[m-1, :]):\n",
    "                A = T[0:m-1 ,1:k+1]\n",
    "                \n",
    "                print(\"\\nAuxiliary Problem optimal with x_0 = 0. Substitute initial obj. function\\n\")# compute new c:\n",
    "                new_c = compute_new_c(A, original_c)\n",
    "                T = np.vstack([A, new_c])\n",
    "                print(T) # begin simplex method on this matrix.\n",
    "            else:\n",
    "                print(T)\n",
    "                raise Exception(\"\\nAuxiliary problem does not have optimal value y = 0. Original problem is infeasible\\n\")\n",
    "        except(BaseException):\n",
    "            print(\"\\nAuxiliary problem does not have optimal value y = 0. Original problem is infeasible\\n\")\n",
    "            raise Exception(\"\\nAuxiliary problem does not have optimal value y = 0. Original problem is infeasible\\n\")\n",
    "    return T\n",
    "        \n",
    "\n"
   ]
  },
  {
   "cell_type": "markdown",
   "metadata": {},
   "source": [
    "## Two-Phase Simplex Method\n",
    "This is a wrapper function for combining the two phases of the simplex method above to produce the two-phase simplex method"
   ]
  },
  {
   "cell_type": "code",
   "execution_count": 9,
   "metadata": {},
   "outputs": [],
   "source": [
    "def Simplex(T):\n",
    "    print(\"Initial Tableau:\\n\")\n",
    "    print(T)\n",
    "    T = PhaseI(T)\n",
    "    T = PhaseII(T)\n",
    "    report_solution(T)\n",
    "    # return T"
   ]
  },
  {
   "cell_type": "markdown",
   "metadata": {},
   "source": [
    "# Examples"
   ]
  },
  {
   "cell_type": "markdown",
   "metadata": {},
   "source": [
    "## Example 1.\n",
    "A non-degenerate problem with optimal solution, therefore only needs phase II of the simplex method.\n",
    "Taken from the Vanderbei textbook, Exercise 2.1\n",
    "\n",
    "$$\n",
    "A = \\begin{bmatrix} 2 & 1 & 1 & 3 \\\\ 1 & 3 & 1 & 2 \\end{bmatrix}\n",
    "\\hspace{1in}\n",
    "\\mathbf{b} = \\begin{bmatrix} 5 \\\\ 3 \\end{bmatrix}\n",
    "\\hspace{1in}\n",
    "\\mathbf{c} = \\begin{bmatrix} 6 \\\\ 8 \\\\ 5 \\\\ 9 \\end{bmatrix}\n",
    "$$"
   ]
  },
  {
   "cell_type": "code",
   "execution_count": 10,
   "metadata": {},
   "outputs": [
    {
     "name": "stdout",
     "output_type": "stream",
     "text": [
      "[[2. 1. 1. 3. 1. 0. 5.]\n",
      " [1. 3. 1. 2. 0. 1. 3.]\n",
      " [6. 8. 5. 9. 0. 0. 0.]]\n"
     ]
    }
   ],
   "source": [
    "# non-degenerate problem with optimal solution. \n",
    "A = np.array([[2.,1.,1.,3.],[1.,3.,1.,2.]])\n",
    "m,n = A.shape\n",
    "I = np.eye(m)\n",
    "c = np.array([6.,8.,5.,9.])\n",
    "b = np.array([5.,3.])\n",
    "T = np.vstack([ np.hstack([A,I,b.reshape((m,1))]) , np.hstack([c,np.zeros(m+1)]) ])\n",
    "print(T)"
   ]
  },
  {
   "cell_type": "code",
   "execution_count": 11,
   "metadata": {},
   "outputs": [
    {
     "name": "stdout",
     "output_type": "stream",
     "text": [
      "Initial Tableau:\n",
      "\n",
      "[[2. 1. 1. 3. 1. 0. 5.]\n",
      " [1. 3. 1. 2. 0. 1. 3.]\n",
      " [6. 8. 5. 9. 0. 0. 0.]]\n",
      "\n",
      "entering: col 3     Leaving: row 1\n",
      "\n",
      "[[  0.5  -3.5  -0.5   0.    1.   -1.5   0.5]\n",
      " [  0.5   1.5   0.5   1.    0.    0.5   1.5]\n",
      " [  1.5  -5.5   0.5   0.    0.   -4.5 -13.5]]\n",
      "\n",
      "entering: col 0     Leaving: row 0\n",
      "\n",
      "[[  1.  -7.  -1.   0.   2.  -3.   1.]\n",
      " [  0.   5.   1.   1.  -1.   2.   1.]\n",
      " [  0.   5.   2.   0.  -3.   0. -15.]]\n",
      "\n",
      "entering: col 1     Leaving: row 1\n",
      "\n",
      "[[ 1.0000000e+00 -4.4408921e-16  4.0000000e-01  1.4000000e+00\n",
      "   6.0000000e-01 -2.0000000e-01  2.4000000e+00]\n",
      " [ 0.0000000e+00  1.0000000e+00  2.0000000e-01  2.0000000e-01\n",
      "  -2.0000000e-01  4.0000000e-01  2.0000000e-01]\n",
      " [ 0.0000000e+00  0.0000000e+00  1.0000000e+00 -1.0000000e+00\n",
      "  -2.0000000e+00 -2.0000000e+00 -1.6000000e+01]]\n",
      "\n",
      "entering: col 2     Leaving: row 1\n",
      "\n",
      "[[ 1.00000000e+00 -2.00000000e+00 -2.22044605e-17  1.00000000e+00\n",
      "   1.00000000e+00 -1.00000000e+00  2.00000000e+00]\n",
      " [ 0.00000000e+00  5.00000000e+00  1.00000000e+00  1.00000000e+00\n",
      "  -1.00000000e+00  2.00000000e+00  1.00000000e+00]\n",
      " [ 0.00000000e+00 -5.00000000e+00  0.00000000e+00 -2.00000000e+00\n",
      "  -1.00000000e+00 -4.00000000e+00 -1.70000000e+01]]\n",
      "\n",
      "Since all the coefficients of the objective function are negative we reached the optimal solution.\n",
      "\n",
      "Final tableau:\n",
      "[[  1.  -2.  -0.   1.   1.  -1.   2.]\n",
      " [  0.   5.   1.   1.  -1.   2.   1.]\n",
      " [  0.  -5.   0.  -2.  -1.  -4. -17.]]\n",
      "\n",
      "The optimal objective value is: 17.0\n",
      "\n",
      "x_0 = 2.0\n",
      "x_1 = 0\n",
      "x_2 = 1.0\n",
      "x_3 = 0\n"
     ]
    }
   ],
   "source": [
    "Simplex(T)"
   ]
  },
  {
   "cell_type": "markdown",
   "metadata": {},
   "source": [
    "## Example 2.\n",
    "An auxiliary problem with an optimal auxiliary solution (for phase I) and a feasible original solution (for phase II).\n",
    "Taken from the Vanderbei textbook (exercise 2.3)"
   ]
  },
  {
   "cell_type": "code",
   "execution_count": 12,
   "metadata": {},
   "outputs": [
    {
     "name": "stdout",
     "output_type": "stream",
     "text": [
      "[[-1. -1. -1.  1.  0. -2.]\n",
      " [ 2. -1.  1.  0.  1.  1.]\n",
      " [ 2. -6.  0.  0.  0.  0.]]\n",
      "Initial Tableau:\n",
      "\n",
      "[[-1. -1. -1.  1.  0. -2.]\n",
      " [ 2. -1.  1.  0.  1.  1.]\n",
      " [ 2. -6.  0.  0.  0.  0.]]\n",
      "\n",
      "Auxiliary Problem\n",
      "\n",
      "[[-1. -1. -1. -1.  1.  0. -2.]\n",
      " [-1.  2. -1.  1.  0.  1.  1.]\n",
      " [-1.  0.  0.  0.  0.  0.  0.]]\n",
      "\n",
      "entering: col 0     Leaving: row 0\n",
      "\n",
      "[[ 1.  1.  1.  1. -1.  0.  2.]\n",
      " [ 0.  3.  0.  2. -1.  1.  3.]\n",
      " [ 0.  1.  1.  1. -1.  0.  2.]]\n",
      "\n",
      "entering: col 1     Leaving: row 1\n",
      "\n",
      "[[ 1.00000000e+00  5.55111512e-17  1.00000000e+00  3.33333333e-01\n",
      "  -6.66666667e-01 -3.33333333e-01  1.00000000e+00]\n",
      " [ 0.00000000e+00  1.00000000e+00  0.00000000e+00  6.66666667e-01\n",
      "  -3.33333333e-01  3.33333333e-01  1.00000000e+00]\n",
      " [ 0.00000000e+00  0.00000000e+00  1.00000000e+00  3.33333333e-01\n",
      "  -6.66666667e-01 -3.33333333e-01  1.00000000e+00]]\n",
      "\n",
      "entering: col 2     Leaving: row 0\n",
      "\n",
      "[[ 1.00000000e+00  5.55111512e-17  1.00000000e+00  3.33333333e-01\n",
      "  -6.66666667e-01 -3.33333333e-01  1.00000000e+00]\n",
      " [ 0.00000000e+00  1.00000000e+00  0.00000000e+00  6.66666667e-01\n",
      "  -3.33333333e-01  3.33333333e-01  1.00000000e+00]\n",
      " [-1.00000000e+00 -5.55111512e-17  0.00000000e+00  0.00000000e+00\n",
      "   0.00000000e+00  0.00000000e+00  0.00000000e+00]]\n",
      "\n",
      "Since all the coefficients of the objective function are negative we reached the optimal solution.\n",
      "\n",
      "\n",
      "Auxiliary Problem optimal with x_0 = 0. Substitute initial obj. function\n",
      "\n",
      "[[ 0.          1.          0.33333333 -0.66666667 -0.33333333  1.        ]\n",
      " [ 1.          0.          0.66666667 -0.33333333  0.33333333  1.        ]\n",
      " [ 0.          0.          0.66666664 -3.33333336 -2.66666664  4.        ]]\n",
      "\n",
      "entering: col 2     Leaving: row 1\n",
      "\n",
      "[[-4.99999992e-01  1.00000000e+00  6.49628308e-18 -5.00000007e-01\n",
      "  -4.99999992e-01  5.00000007e-01]\n",
      " [ 1.49999999e+00  0.00000000e+00  1.00000000e+00 -4.99999992e-01\n",
      "   4.99999992e-01  1.49999999e+00]\n",
      " [-9.99999955e-01  0.00000000e+00  0.00000000e+00 -3.00000005e+00\n",
      "  -2.99999995e+00  3.00000005e+00]]\n",
      "\n",
      "Since all the coefficients of the objective function are negative we reached the optimal solution.\n",
      "\n",
      "Final tableau:\n",
      "[[-0.5  1.   0.  -0.5 -0.5  0.5]\n",
      " [ 1.5  0.   1.  -0.5  0.5  1.5]\n",
      " [-1.   0.   0.  -3.  -3.   3. ]]\n",
      "\n",
      "The optimal objective value is: -3.0\n",
      "\n",
      "x_0 = 0\n",
      "x_1 = 0.5\n",
      "x_2 = 1.5\n"
     ]
    },
    {
     "name": "stderr",
     "output_type": "stream",
     "text": [
      "C:\\Users\\mauri\\AppData\\Local\\Temp/ipykernel_10376/275364688.py:21: RuntimeWarning: divide by zero encountered in double_scalars\n",
      "  ratio = T[i, k-1] / T[i, entering_col]\n"
     ]
    }
   ],
   "source": [
    "# #Auxiliary problem with an optimal Aux solution and feasible original solution\n",
    "# Vanderbei (exercise 2.3)\n",
    "A = np.array([[-1.,-1.,-1.],[2.,-1.,1.]])\n",
    "m,n = A.shape\n",
    "I = np.eye(m)\n",
    "c = np.array([2.,-6.,0.])\n",
    "b = np.array([-2.,1.])\n",
    "T = np.vstack([ np.hstack([A,I,b.reshape((m,1))]) , np.hstack([c,np.zeros(m+1)]) ])\n",
    "print(T)\n",
    "\n",
    "Simplex(T)"
   ]
  },
  {
   "cell_type": "markdown",
   "metadata": {},
   "source": [
    "## Example 3\n",
    "An auxiliary problem with no optimal auxiliary solution (thus original problem is infeasible)."
   ]
  },
  {
   "cell_type": "code",
   "execution_count": 13,
   "metadata": {},
   "outputs": [
    {
     "name": "stdout",
     "output_type": "stream",
     "text": [
      "[[ 1.  1.  1.  0.  0.  1.]\n",
      " [ 2. -2.  0.  1.  0. -1.]\n",
      " [-3. -2.  0.  0.  1. -4.]\n",
      " [ 3.  1.  0.  0.  0.  0.]]\n"
     ]
    }
   ],
   "source": [
    "#Auxiliary problem with no optimal Aux solution\n",
    "A = np.array([[1., 1.],[2.,-2.],[-3, -2.]])\n",
    "m,n = A.shape\n",
    "I = np.eye(m)\n",
    "c = np.array([3.,1.])\n",
    "b = np.array([1.,-1., -4.])\n",
    "T = np.vstack([ np.hstack([A,I,b.reshape((m,1))]) , np.hstack([c,np.zeros(m+1)]) ])\n",
    "print(T)"
   ]
  },
  {
   "cell_type": "code",
   "execution_count": 14,
   "metadata": {},
   "outputs": [
    {
     "name": "stdout",
     "output_type": "stream",
     "text": [
      "Initial Tableau:\n",
      "\n",
      "[[ 1.  1.  1.  0.  0.  1.]\n",
      " [ 2. -2.  0.  1.  0. -1.]\n",
      " [-3. -2.  0.  0.  1. -4.]\n",
      " [ 3.  1.  0.  0.  0.  0.]]\n",
      "\n",
      "Auxiliary Problem\n",
      "\n",
      "[[-1.  1.  1.  1.  0.  0.  1.]\n",
      " [-1.  2. -2.  0.  1.  0. -1.]\n",
      " [-1. -3. -2.  0.  0.  1. -4.]\n",
      " [-1.  0.  0.  0.  0.  0.  0.]]\n",
      "\n",
      "entering: col 0     Leaving: row 2\n",
      "\n",
      "[[ 0.  4.  3.  1.  0. -1.  5.]\n",
      " [ 0.  5.  0.  0.  1. -1.  3.]\n",
      " [ 1.  3.  2.  0.  0. -1.  4.]\n",
      " [ 0.  3.  2.  0.  0. -1.  4.]]\n",
      "\n",
      "entering: col 1     Leaving: row 1\n",
      "\n",
      "[[ 0.00000000e+00 -2.22044605e-16  3.00000000e+00  1.00000000e+00\n",
      "  -8.00000000e-01 -2.00000000e-01  2.60000000e+00]\n",
      " [ 0.00000000e+00  1.00000000e+00  0.00000000e+00  0.00000000e+00\n",
      "   2.00000000e-01 -2.00000000e-01  6.00000000e-01]\n",
      " [ 1.00000000e+00  0.00000000e+00  2.00000000e+00  0.00000000e+00\n",
      "  -6.00000000e-01 -4.00000000e-01  2.20000000e+00]\n",
      " [ 0.00000000e+00  0.00000000e+00  2.00000000e+00  0.00000000e+00\n",
      "  -6.00000000e-01 -4.00000000e-01  2.20000000e+00]]\n",
      "\n",
      "entering: col 2     Leaving: row 0\n",
      "\n",
      "[[ 0.00000000e+00 -7.40148683e-17  1.00000000e+00  3.33333333e-01\n",
      "  -2.66666667e-01 -6.66666667e-02  8.66666667e-01]\n",
      " [ 0.00000000e+00  1.00000000e+00  0.00000000e+00  0.00000000e+00\n",
      "   2.00000000e-01 -2.00000000e-01  6.00000000e-01]\n",
      " [ 1.00000000e+00  1.48029737e-16  0.00000000e+00 -6.66666667e-01\n",
      "  -6.66666667e-02 -2.66666667e-01  4.66666667e-01]\n",
      " [ 0.00000000e+00  1.48029737e-16  0.00000000e+00 -6.66666667e-01\n",
      "  -6.66666667e-02 -2.66666667e-01  4.66666667e-01]]\n",
      "\n",
      "entering: col 1     Leaving: row 1\n",
      "\n",
      "[[ 0.          0.          1.          0.33333333 -0.26666667 -0.06666667\n",
      "   0.86666667]\n",
      " [ 0.          1.          0.          0.          0.2        -0.2\n",
      "   0.6       ]\n",
      " [ 1.          0.          0.         -0.66666667 -0.06666667 -0.26666667\n",
      "   0.46666667]\n",
      " [ 0.          0.          0.         -0.66666667 -0.06666667 -0.26666667\n",
      "   0.46666667]]\n",
      "\n",
      "Since all the coefficients of the objective function are negative we reached the optimal solution.\n",
      "\n",
      "[[ 0.          0.          1.          0.33333333 -0.26666667 -0.06666667\n",
      "   0.86666667]\n",
      " [ 0.          1.          0.          0.          0.2        -0.2\n",
      "   0.6       ]\n",
      " [ 1.          0.          0.         -0.66666667 -0.06666667 -0.26666667\n",
      "   0.46666667]\n",
      " [ 0.          0.          0.         -0.66666667 -0.06666667 -0.26666667\n",
      "   0.46666667]]\n",
      "\n",
      "Auxiliary problem does not have optimal value y = 0. Original problem is infeasible\n",
      "\n"
     ]
    },
    {
     "name": "stderr",
     "output_type": "stream",
     "text": [
      "C:\\Users\\mauri\\AppData\\Local\\Temp/ipykernel_10376/275364688.py:21: RuntimeWarning: divide by zero encountered in double_scalars\n",
      "  ratio = T[i, k-1] / T[i, entering_col]\n"
     ]
    },
    {
     "ename": "Exception",
     "evalue": "\nAuxiliary problem does not have optimal value y = 0. Original problem is infeasible\n",
     "output_type": "error",
     "traceback": [
      "\u001b[1;31m---------------------------------------------------------------------------\u001b[0m",
      "\u001b[1;31mException\u001b[0m                                 Traceback (most recent call last)",
      "\u001b[1;32m~\\AppData\\Local\\Temp/ipykernel_10376/3314786270.py\u001b[0m in \u001b[0;36mPhaseI\u001b[1;34m(T)\u001b[0m\n\u001b[0;32m     39\u001b[0m                 \u001b[0mprint\u001b[0m\u001b[1;33m(\u001b[0m\u001b[0mT\u001b[0m\u001b[1;33m)\u001b[0m\u001b[1;33m\u001b[0m\u001b[1;33m\u001b[0m\u001b[0m\n\u001b[1;32m---> 40\u001b[1;33m                 \u001b[1;32mraise\u001b[0m \u001b[0mException\u001b[0m\u001b[1;33m(\u001b[0m\u001b[1;34m\"\\nAuxiliary problem does not have optimal value y = 0. Original problem is infeasible\\n\"\u001b[0m\u001b[1;33m)\u001b[0m\u001b[1;33m\u001b[0m\u001b[1;33m\u001b[0m\u001b[0m\n\u001b[0m\u001b[0;32m     41\u001b[0m         \u001b[1;32mexcept\u001b[0m\u001b[1;33m(\u001b[0m\u001b[0mBaseException\u001b[0m\u001b[1;33m)\u001b[0m\u001b[1;33m:\u001b[0m\u001b[1;33m\u001b[0m\u001b[1;33m\u001b[0m\u001b[0m\n",
      "\u001b[1;31mException\u001b[0m: \nAuxiliary problem does not have optimal value y = 0. Original problem is infeasible\n",
      "\nDuring handling of the above exception, another exception occurred:\n",
      "\u001b[1;31mException\u001b[0m                                 Traceback (most recent call last)",
      "\u001b[1;32m~\\AppData\\Local\\Temp/ipykernel_10376/54563355.py\u001b[0m in \u001b[0;36m<module>\u001b[1;34m\u001b[0m\n\u001b[1;32m----> 1\u001b[1;33m \u001b[0mSimplex\u001b[0m\u001b[1;33m(\u001b[0m\u001b[0mT\u001b[0m\u001b[1;33m)\u001b[0m\u001b[1;33m\u001b[0m\u001b[1;33m\u001b[0m\u001b[0m\n\u001b[0m",
      "\u001b[1;32m~\\AppData\\Local\\Temp/ipykernel_10376/2558291840.py\u001b[0m in \u001b[0;36mSimplex\u001b[1;34m(T)\u001b[0m\n\u001b[0;32m      2\u001b[0m     \u001b[0mprint\u001b[0m\u001b[1;33m(\u001b[0m\u001b[1;34m\"Initial Tableau:\\n\"\u001b[0m\u001b[1;33m)\u001b[0m\u001b[1;33m\u001b[0m\u001b[1;33m\u001b[0m\u001b[0m\n\u001b[0;32m      3\u001b[0m     \u001b[0mprint\u001b[0m\u001b[1;33m(\u001b[0m\u001b[0mT\u001b[0m\u001b[1;33m)\u001b[0m\u001b[1;33m\u001b[0m\u001b[1;33m\u001b[0m\u001b[0m\n\u001b[1;32m----> 4\u001b[1;33m     \u001b[0mT\u001b[0m \u001b[1;33m=\u001b[0m \u001b[0mPhaseI\u001b[0m\u001b[1;33m(\u001b[0m\u001b[0mT\u001b[0m\u001b[1;33m)\u001b[0m\u001b[1;33m\u001b[0m\u001b[1;33m\u001b[0m\u001b[0m\n\u001b[0m\u001b[0;32m      5\u001b[0m     \u001b[0mT\u001b[0m \u001b[1;33m=\u001b[0m \u001b[0mPhaseII\u001b[0m\u001b[1;33m(\u001b[0m\u001b[0mT\u001b[0m\u001b[1;33m)\u001b[0m\u001b[1;33m\u001b[0m\u001b[1;33m\u001b[0m\u001b[0m\n\u001b[0;32m      6\u001b[0m     \u001b[0mreport_solution\u001b[0m\u001b[1;33m(\u001b[0m\u001b[0mT\u001b[0m\u001b[1;33m)\u001b[0m\u001b[1;33m\u001b[0m\u001b[1;33m\u001b[0m\u001b[0m\n",
      "\u001b[1;32m~\\AppData\\Local\\Temp/ipykernel_10376/3314786270.py\u001b[0m in \u001b[0;36mPhaseI\u001b[1;34m(T)\u001b[0m\n\u001b[0;32m     41\u001b[0m         \u001b[1;32mexcept\u001b[0m\u001b[1;33m(\u001b[0m\u001b[0mBaseException\u001b[0m\u001b[1;33m)\u001b[0m\u001b[1;33m:\u001b[0m\u001b[1;33m\u001b[0m\u001b[1;33m\u001b[0m\u001b[0m\n\u001b[0;32m     42\u001b[0m             \u001b[0mprint\u001b[0m\u001b[1;33m(\u001b[0m\u001b[1;34m\"\\nAuxiliary problem does not have optimal value y = 0. Original problem is infeasible\\n\"\u001b[0m\u001b[1;33m)\u001b[0m\u001b[1;33m\u001b[0m\u001b[1;33m\u001b[0m\u001b[0m\n\u001b[1;32m---> 43\u001b[1;33m             \u001b[1;32mraise\u001b[0m \u001b[0mException\u001b[0m\u001b[1;33m(\u001b[0m\u001b[1;34m\"\\nAuxiliary problem does not have optimal value y = 0. Original problem is infeasible\\n\"\u001b[0m\u001b[1;33m)\u001b[0m\u001b[1;33m\u001b[0m\u001b[1;33m\u001b[0m\u001b[0m\n\u001b[0m\u001b[0;32m     44\u001b[0m     \u001b[1;32mreturn\u001b[0m \u001b[0mT\u001b[0m\u001b[1;33m\u001b[0m\u001b[1;33m\u001b[0m\u001b[0m\n\u001b[0;32m     45\u001b[0m \u001b[1;33m\u001b[0m\u001b[0m\n",
      "\u001b[1;31mException\u001b[0m: \nAuxiliary problem does not have optimal value y = 0. Original problem is infeasible\n"
     ]
    }
   ],
   "source": [
    "Simplex(T)"
   ]
  },
  {
   "cell_type": "markdown",
   "metadata": {},
   "source": [
    "## Example 4\n",
    "An auxiliary problem with an optimal auxiliary solution. Original problem has an optimal solution."
   ]
  },
  {
   "cell_type": "code",
   "execution_count": null,
   "metadata": {},
   "outputs": [
    {
     "name": "stdout",
     "output_type": "stream",
     "text": [
      "[[ 2.  1.  1.  1.  0.  2.]\n",
      " [-3. -4. -2.  0.  1. -8.]\n",
      " [ 3.  2.  3.  0.  0.  0.]]\n"
     ]
    }
   ],
   "source": [
    "#Auxiliary problem with an optimal Aux solution\n",
    "A = np.array([[2., 1., 1],[-3.,-4., -2.]])\n",
    "m,n = A.shape\n",
    "I = np.eye(m)\n",
    "c = np.array([3.,2., 3.])\n",
    "b = np.array([2.,-8.])\n",
    "T = np.vstack([ np.hstack([A,I,b.reshape((m,1))]) , np.hstack([c,np.zeros(m+1)]) ])\n",
    "print(T)"
   ]
  },
  {
   "cell_type": "code",
   "execution_count": null,
   "metadata": {},
   "outputs": [
    {
     "name": "stdout",
     "output_type": "stream",
     "text": [
      "Initial Tableau:\n",
      "\n",
      "[[ 2.  1.  1.  1.  0.  2.]\n",
      " [-3. -4. -2.  0.  1. -8.]\n",
      " [ 3.  2.  3.  0.  0.  0.]]\n",
      "\n",
      "Auxiliary Problem\n",
      "\n",
      "[[-1.  2.  1.  1.  1.  0.  2.]\n",
      " [-1. -3. -4. -2.  0.  1. -8.]\n",
      " [-1.  0.  0.  0.  0.  0.  0.]]\n",
      "\n",
      "entering: col 0     Leaving: row 1\n",
      "\n",
      "[[ 0.  5.  5.  3.  1. -1. 10.]\n",
      " [ 1.  3.  4.  2.  0. -1.  8.]\n",
      " [ 0.  3.  4.  2.  0. -1.  8.]]\n",
      "\n",
      "entering: col 2     Leaving: row 1\n",
      "\n",
      "[[-1.25  1.25  0.    0.5   1.    0.25  0.  ]\n",
      " [ 0.25  0.75  1.    0.5   0.   -0.25  2.  ]\n",
      " [-1.    0.    0.    0.    0.    0.    0.  ]]\n",
      "Since all the coefficients of the objective function are negative we reached the optimal solution.\n",
      "\n",
      "\n",
      "Auxiliary Problem optimal with x_0 = 0. Substitute initial obj. function\n",
      "\n",
      "[[ 1.25  0.    0.5   1.    0.25  0.  ]\n",
      " [ 0.75  1.    0.5   0.   -0.25  2.  ]\n",
      " [ 1.5   0.    2.    0.    0.5  -4.  ]]\n",
      "\n",
      "entering: col 2     Leaving: row 0\n",
      "\n",
      "[[ 2.5  0.   1.   2.   0.5  0. ]\n",
      " [-0.5  1.   0.  -1.  -0.5  2. ]\n",
      " [-3.5  0.   0.  -4.  -0.5 -4. ]]\n",
      "Since all the coefficients of the objective function are negative we reached the optimal solution.\n",
      "\n",
      "Final tableau:\n",
      "[[ 2.5  0.   1.   2.   0.5  0. ]\n",
      " [-0.5  1.   0.  -1.  -0.5  2. ]\n",
      " [-3.5  0.   0.  -4.  -0.5 -4. ]]\n",
      "\n",
      "The optimal objective value is: 4.0\n",
      "\n",
      "x_0 = 0\n",
      "x_1 = 2.0\n",
      "x_2 = 0.0\n"
     ]
    }
   ],
   "source": [
    "Simplex(T)"
   ]
  }
 ],
 "metadata": {
  "kernelspec": {
   "display_name": "Python 3.8.8 ('base')",
   "language": "python",
   "name": "python3"
  },
  "language_info": {
   "codemirror_mode": {
    "name": "ipython",
    "version": 3
   },
   "file_extension": ".py",
   "mimetype": "text/x-python",
   "name": "python",
   "nbconvert_exporter": "python",
   "pygments_lexer": "ipython3",
   "version": "3.8.8"
  },
  "orig_nbformat": 4,
  "vscode": {
   "interpreter": {
    "hash": "27399c2e6482aedf46537f2171a3c2057501532d71ea0fd6e8be4005a90ab592"
   }
  }
 },
 "nbformat": 4,
 "nbformat_minor": 2
}
